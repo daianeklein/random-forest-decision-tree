{
 "cells": [
  {
   "cell_type": "markdown",
   "id": "3c1ea0b5",
   "metadata": {
    "ExecuteTime": {
     "end_time": "2021-07-14T01:12:13.055114Z",
     "start_time": "2021-07-14T01:11:57.300473Z"
    }
   },
   "source": [
    "# Machine Learning With Random Forests And Decision Trees: A Visual Guide For Beginners"
   ]
  },
  {
   "cell_type": "markdown",
   "id": "18fb9776",
   "metadata": {},
   "source": [
    "## LIB'S"
   ]
  },
  {
   "cell_type": "code",
   "execution_count": 2,
   "id": "45684983",
   "metadata": {
    "ExecuteTime": {
     "end_time": "2021-07-15T01:15:26.574317Z",
     "start_time": "2021-07-15T01:15:25.508592Z"
    }
   },
   "outputs": [],
   "source": [
    "import numpy as np\n",
    "from sklearn.datasets import load_iris\n",
    "from sklearn.ensemble import RandomForestClassifier"
   ]
  },
  {
   "cell_type": "markdown",
   "id": "8e0c1ddc",
   "metadata": {},
   "source": [
    "# CHAPTER 01"
   ]
  },
  {
   "cell_type": "code",
   "execution_count": 5,
   "id": "9c0bd54f",
   "metadata": {
    "ExecuteTime": {
     "end_time": "2021-07-15T01:16:56.406352Z",
     "start_time": "2021-07-15T01:16:56.205830Z"
    }
   },
   "outputs": [],
   "source": [
    "# set the random seed\n",
    "np.random.seed(12345)\n",
    "\n",
    "#load dataset\n",
    "iris = load_iris()\n",
    "X = iris.data\n",
    "y = iris.target\n",
    "\n",
    "#model\n",
    "model = RandomForestClassifier()\n",
    "\n",
    "#train\n",
    "clf = model.fit(X, y)"
   ]
  },
  {
   "cell_type": "code",
   "execution_count": 8,
   "id": "58a1406d",
   "metadata": {
    "ExecuteTime": {
     "end_time": "2021-07-15T01:17:57.928708Z",
     "start_time": "2021-07-15T01:17:57.923619Z"
    }
   },
   "outputs": [
    {
     "name": "stdout",
     "output_type": "stream",
     "text": [
      "(150, 4) (150,)\n"
     ]
    }
   ],
   "source": [
    "# shape\n",
    "print(X.shape, y.shape)"
   ]
  },
  {
   "cell_type": "code",
   "execution_count": 2,
   "id": "050c875f",
   "metadata": {
    "ExecuteTime": {
     "end_time": "2021-07-15T01:52:50.592400Z",
     "start_time": "2021-07-15T01:52:50.588187Z"
    }
   },
   "outputs": [],
   "source": []
  },
  {
   "cell_type": "code",
   "execution_count": 6,
   "id": "2b8ccc2b",
   "metadata": {
    "ExecuteTime": {
     "end_time": "2021-07-15T01:55:51.381044Z",
     "start_time": "2021-07-15T01:55:51.051306Z"
    }
   },
   "outputs": [
    {
     "name": "stderr",
     "output_type": "stream",
     "text": [
      "<ipython-input-6-e67062a86f21>:68: DeprecationWarning: `np.float` is a deprecated alias for the builtin `float`. To silence this warning, use `float` by itself. Doing this will not modify any behavior and is safe. If you specifically wanted the numpy scalar type, use `np.float64` here.\n",
      "Deprecated in NumPy 1.20; for more details and guidance: https://numpy.org/devdocs/release/1.20.0-notes.html#deprecations\n",
      "  fruit = fruit.astype(np.float)\n",
      "<ipython-input-6-e67062a86f21>:78: DeprecationWarning: `np.float` is a deprecated alias for the builtin `float`. To silence this warning, use `float` by itself. Doing this will not modify any behavior and is safe. If you specifically wanted the numpy scalar type, use `np.float64` here.\n",
      "Deprecated in NumPy 1.20; for more details and guidance: https://numpy.org/devdocs/release/1.20.0-notes.html#deprecations\n",
      "  X = fruit[:,pair].astype(np.float)\n"
     ]
    },
    {
     "ename": "NameError",
     "evalue": "name 'xrange' is not defined",
     "output_type": "error",
     "traceback": [
      "\u001b[0;31m---------------------------------------------------------------------------\u001b[0m",
      "\u001b[0;31mNameError\u001b[0m                                 Traceback (most recent call last)",
      "\u001b[0;32m<ipython-input-6-e67062a86f21>\u001b[0m in \u001b[0;36m<module>\u001b[0;34m\u001b[0m\n\u001b[1;32m    119\u001b[0m             \u001b[0;31m# Plot the training points, these are clustered together and have a\u001b[0m\u001b[0;34m\u001b[0m\u001b[0;34m\u001b[0m\u001b[0;34m\u001b[0m\u001b[0m\n\u001b[1;32m    120\u001b[0m             \u001b[0;31m# black outline\u001b[0m\u001b[0;34m\u001b[0m\u001b[0;34m\u001b[0m\u001b[0;34m\u001b[0m\u001b[0m\n\u001b[0;32m--> 121\u001b[0;31m             \u001b[0;32mfor\u001b[0m \u001b[0mi\u001b[0m\u001b[0;34m,\u001b[0m \u001b[0mc\u001b[0m \u001b[0;32min\u001b[0m \u001b[0mzip\u001b[0m\u001b[0;34m(\u001b[0m\u001b[0mxrange\u001b[0m\u001b[0;34m(\u001b[0m\u001b[0mn_classes\u001b[0m\u001b[0;34m)\u001b[0m\u001b[0;34m,\u001b[0m \u001b[0mplot_colors\u001b[0m\u001b[0;34m)\u001b[0m\u001b[0;34m:\u001b[0m\u001b[0;34m\u001b[0m\u001b[0;34m\u001b[0m\u001b[0m\n\u001b[0m\u001b[1;32m    122\u001b[0m                 \u001b[0midx\u001b[0m \u001b[0;34m=\u001b[0m \u001b[0mnp\u001b[0m\u001b[0;34m.\u001b[0m\u001b[0mintersect1d\u001b[0m\u001b[0;34m(\u001b[0m\u001b[0mnp\u001b[0m\u001b[0;34m.\u001b[0m\u001b[0mwhere\u001b[0m\u001b[0;34m(\u001b[0m\u001b[0my\u001b[0m \u001b[0;34m==\u001b[0m \u001b[0mi\u001b[0m\u001b[0;34m)\u001b[0m\u001b[0;34m,\u001b[0m\u001b[0mnp\u001b[0m\u001b[0;34m.\u001b[0m\u001b[0mwhere\u001b[0m\u001b[0;34m(\u001b[0m\u001b[0mtree\u001b[0m\u001b[0;34m.\u001b[0m\u001b[0mindices_\u001b[0m \u001b[0;34m==\u001b[0m \u001b[0;32mTrue\u001b[0m\u001b[0;34m)\u001b[0m\u001b[0;34m)\u001b[0m\u001b[0;34m\u001b[0m\u001b[0;34m\u001b[0m\u001b[0m\n\u001b[1;32m    123\u001b[0m                 plt.scatter(X[idx, 0], X[idx, 1], c=c, cmap=cmap,s=60,marker=markers[i],\n",
      "\u001b[0;31mNameError\u001b[0m: name 'xrange' is not defined"
     ]
    },
    {
     "data": {
      "image/png": "[encoded data removed]",
      "text/plain": [
       "<Figure size 1440x1440 with 1 Axes>"
      ]
     },
     "metadata": {
      "needs_background": "light"
     },
     "output_type": "display_data"
    }
   ],
   "source": [
    "import numpy as np\n",
    "import matplotlib.pyplot as plt\n",
    "\n",
    "from sklearn import clone\n",
    "from sklearn.ensemble import RandomForestClassifier\n",
    "from six import StringIO\n",
    "#from sklearn.externals.six.moves import xrange\n",
    "from sklearn.tree import DecisionTreeClassifier\n",
    "\n",
    "# Parameters\n",
    "n_classes = 4\n",
    "n_estimators = 9\n",
    "plot_colors = ('r','orange','yellow','blue')\n",
    "markers = ('D','s','^','o')\n",
    "\n",
    "cmap = plt.cm.RdYlBu\n",
    "#cmap = plt.cm.hsv\n",
    "\n",
    "\n",
    "plot_step = 0.02  # fine step width for decision surface contours\n",
    "plot_step_coarser = 0.5  # step widths for coarse classifier guesses\n",
    "RANDOM_SEED = 13  # fix the seed on each iteration\n",
    "\n",
    "\n",
    "# Load fruit data\n",
    "fruit_file = open('/Users/daianeklein/Downloads/Random_Forest_Final_Programs/Random_Forest_Examples.csv','r')\n",
    "next(fruit_file)\n",
    "fruit = []\n",
    "\n",
    "for line in fruit_file:\n",
    "    fruit.append(line.strip().split(','))\n",
    "\n",
    "rows = len(fruit)\n",
    "columns = len(fruit[0])\n",
    "    \n",
    "fruit = np.array(fruit)\n",
    "\n",
    "for column in range(0,columns ):\n",
    "    # loop through all the rows and columns, replace\n",
    "    # categories with floats\n",
    "    cnt1 = 0\n",
    "    categories = {}\n",
    "    for row in range(0,rows):\n",
    "        if (row == 0): \n",
    "           try:\n",
    "               num = float( fruit[row,column] )\n",
    "               # if this is a number, break from the loop\n",
    "               break\n",
    "           except:\n",
    "               pass\n",
    "        \n",
    "        item = fruit[row,column]\n",
    "        if (item not in categories):\n",
    "            # see if we already have an item of this category\n",
    "            #  basically, change apples to 1, bananas to 2, oranges to 3\n",
    "            #  etc\n",
    "            categories[item] = cnt1\n",
    "            cnt1+=1\n",
    "        fruit[row,column] = categories[item]\n",
    "\n",
    "    if (column == 0):\n",
    "        labels = {}\n",
    "        for key, value in categories.items():\n",
    "            # labels for the legend in the plots\n",
    "            labels[int(value)] = key\n",
    "\n",
    "\n",
    "fruit = fruit.astype(np.float)\n",
    "\n",
    "plot_idx = 1\n",
    "\n",
    "models = [ RandomForestClassifier(n_estimators=n_estimators)  ]\n",
    "\n",
    "pair = [1,2]\n",
    "for model in models:\n",
    "    plt.figure(figsize=(20,20))\n",
    "    # We only take use 2 of the features to make it easier to plot\n",
    "    X = fruit[:,pair].astype(np.float)\n",
    "    y = fruit[:,0]\n",
    "    \n",
    "    np.random.seed(RANDOM_SEED)\n",
    "\n",
    "\n",
    "    # Train\n",
    "    clf = clone(model)\n",
    "    clf = model.fit(X, y)\n",
    "\n",
    "    scores = clf.score(X, y)\n",
    "    \n",
    "    plt.title('Decision Trees of A Random Forest - Length vs. Width')\n",
    "\n",
    "    # Now plot the decision boundary using a fine mesh as input to a\n",
    "    # filled contour plot\n",
    "    x_min, x_max = 0, X[:, 0].max() + 1\n",
    "    y_min, y_max = 0, X[:, 1].max() + 1\n",
    "    xx, yy = np.meshgrid(np.arange(x_min, x_max, plot_step),\n",
    "                         np.arange(y_min, y_max, plot_step))\n",
    "\n",
    "    # Plot either a single DecisionTreeClassifier or alpha blend the\n",
    "    # decision surfaces of the ensemble of classifiers\n",
    "    if isinstance(model, DecisionTreeClassifier):\n",
    "        Z = model.predict(np.c_[xx.ravel(), yy.ravel()])\n",
    "        Z = Z.reshape(xx.shape)\n",
    "        cs = plt.contourf(xx, yy, Z, cmap=cmap)\n",
    "        #cs = plt.contourf(xx, yy, Z, colors=('r','g','b','y'))\n",
    "    else:\n",
    "        # Choose alpha blend level with respect to the number of estimators\n",
    "        # that are in use (noting that AdaBoost can use fewer estimators\n",
    "        # than its maximum if it achieves a good enough fit early on)\n",
    "        estimator_alpha = 1.0 / len(model.estimators_)\n",
    "        for tree in model.estimators_:\n",
    "            \n",
    "            plt.subplot(3, 3, plot_idx)\n",
    "            \n",
    "            Z = tree.predict(np.c_[xx.ravel(), yy.ravel()])\n",
    "            Z = Z.reshape(xx.shape)\n",
    "            cs = plt.contourf(xx, yy, Z, alpha=1.0, cmap=cmap)\n",
    "\n",
    "            # Plot the training points, these are clustered together and have a\n",
    "            # black outline\n",
    "            for i, c in zip(xrange(n_classes), plot_colors):\n",
    "                idx = np.intersect1d(np.where(y == i),np.where(tree.indices_ == True))\n",
    "                plt.scatter(X[idx, 0], X[idx, 1], c=c, cmap=cmap,s=60,marker=markers[i],\n",
    "                            label=labels[i])\n",
    "            \n",
    "            plot_idx+=1\n",
    "\n",
    "    \n",
    "    plt.show()\n",
    "\n"
   ]
  },
  {
   "cell_type": "code",
   "execution_count": null,
   "id": "cbbeda56",
   "metadata": {},
   "outputs": [],
   "source": []
  }
 ],
 "metadata": {
  "kernelspec": {
   "display_name": "rf-visul-guide",
   "language": "python",
   "name": "rf-visul-guide"
  },
  "language_info": {
   "codemirror_mode": {
    "name": "ipython",
    "version": 3
   },
   "file_extension": ".py",
   "mimetype": "text/x-python",
   "name": "python",
   "nbconvert_exporter": "python",
   "pygments_lexer": "ipython3",
   "version": "3.9.5"
  },
  "toc": {
   "base_numbering": 1,
   "nav_menu": {},
   "number_sections": true,
   "sideBar": true,
   "skip_h1_title": false,
   "title_cell": "Table of Contents",
   "title_sidebar": "Contents",
   "toc_cell": false,
   "toc_position": {},
   "toc_section_display": true,
   "toc_window_display": false
  },
  "varInspector": {
   "cols": {
    "lenName": 16,
    "lenType": 16,
    "lenVar": 40
   },
   "kernels_config": {
    "python": {
     "delete_cmd_postfix": "",
     "delete_cmd_prefix": "del ",
     "library": "var_list.py",
     "varRefreshCmd": "print(var_dic_list())"
    },
    "r": {
     "delete_cmd_postfix": ") ",
     "delete_cmd_prefix": "rm(",
     "library": "var_list.r",
     "varRefreshCmd": "cat(var_dic_list()) "
    }
   },
   "types_to_exclude": [
    "module",
    "function",
    "builtin_function_or_method",
    "instance",
    "_Feature"
   ],
   "window_display": false
  }
 },
 "nbformat": 4,
 "nbformat_minor": 5
}
